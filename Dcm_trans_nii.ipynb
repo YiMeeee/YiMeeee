{
 "cells": [
  {
   "cell_type": "code",
   "execution_count": 4,
   "metadata": {},
   "outputs": [
    {
     "name": "stdout",
     "output_type": "stream",
     "text": [
      "正在处理第1个文件\n",
      "正在处理第2个文件\n",
      "finished\n"
     ]
    }
   ],
   "source": [
    "import os\n",
    "import shutil\n",
    "import numpy as np\n",
    "import pandas as pd\n",
    "import pydicom\n",
    "import nibabel as nib\n",
    "import SimpleITK as sitk\n",
    " \n",
    "'''\n",
    "dcms_root_path文件夹下是每一个患者的姓名，每个患者的姓名文件夹下是每张dcm文件\n",
    "dcm2nii.py 读取dcm文件，并生成nii文件\n",
    "nii_path是一个新的文件夹，存放新生成的nii文件\n",
    "这个脚本只能处理一个序列，每个序列都要执行一遍\n",
    "nii_path 路径中不能有中文\n",
    "注意dcm文件下是有很多的文件，文件结构如下\n",
    "E:\\dcm转\\0112\\2886775\n",
    " ├── 序列1\n",
    " │   ├── image1.dcm\n",
    " │   ├── image2.dcm\n",
    " │   ├── ...\n",
    " ├── 序列2\n",
    " │   ├── image1.dcm\n",
    " │   ├── image2.dcm\n",
    " │   ├── ...\n",
    " \n",
    " 转换后\n",
    " ├── 序列1\n",
    " │   ├── image1.nii\n",
    " │   ├── image2.nii\n",
    " │   ├── ...\n",
    "\n",
    "'''\n",
    " \n",
    " \n",
    "def dcm2nii(dcms_path, nii_path):\n",
    "    # 1.构建dicom序列文件阅读器，并执行（即将dicom序列文件“打包整合”）\n",
    "    reader = sitk.ImageSeriesReader()\n",
    "    dicom_names = reader.GetGDCMSeriesFileNames(dcms_path)\n",
    "    reader.SetFileNames(dicom_names)\n",
    "    image2 = reader.Execute()\n",
    "    # 2.将整合后的数据转为array，并获取dicom文件基本信息\n",
    "    image_array = sitk.GetArrayFromImage(image2)  # z, y, x\n",
    "    origin = image2.GetOrigin()  # x, y, z\n",
    "    spacing = image2.GetSpacing()  # x, y, z\n",
    "    direction = image2.GetDirection()  # x, y, z\n",
    "    # 3.将array转为img，并保存为.nii.gz\n",
    "    image3 = sitk.GetImageFromArray(image_array)\n",
    "    image3.SetSpacing(spacing)\n",
    "    image3.SetDirection(direction)\n",
    "    image3.SetOrigin(origin)\n",
    "    sitk.WriteImage(image3, os.path.join(nii_path, ))\n",
    " \n",
    "dcms_root_path = r'E:\\dcm1\\1215'  # dicom序列文件所在路径\n",
    "nii_path = r'E:\\dcm1\\A1215'  # 所需.nii.gz文件保存路径\n",
    "if os.path.exists(nii_path):\n",
    "    shutil.rmtree(nii_path)  # 如果 save_path 存在，则删除\n",
    "os.makedirs(nii_path)  # 生成 save_path\n",
    " \n",
    "patients = os.listdir(dcms_root_path)\n",
    "for i , p in enumerate(patients):\n",
    "    dcm_xulie_path = os.path.join(dcms_root_path, p)\n",
    "    name = p.split(\"-\")[0]\n",
    "    save_path = os.path.join(nii_path)\n",
    " \n",
    "    dcm2nii(dcm_xulie_path, os.path.join(save_path, f'{name}.nii'))\n",
    "    print(f'正在处理第{i+1}个文件')\n",
    " \n",
    "print(\"finished\")"
   ]
  },
  {
   "cell_type": "markdown",
   "metadata": {},
   "source": [
    "![alt text](屏幕截图2025.01.22.png)"
   ]
  }
 ],
 "metadata": {
  "kernelspec": {
   "display_name": "yolo",
   "language": "python",
   "name": "python3"
  },
  "language_info": {
   "codemirror_mode": {
    "name": "ipython",
    "version": 3
   },
   "file_extension": ".py",
   "mimetype": "text/x-python",
   "name": "python",
   "nbconvert_exporter": "python",
   "pygments_lexer": "ipython3",
   "version": "3.10.14"
  }
 },
 "nbformat": 4,
 "nbformat_minor": 2
}
